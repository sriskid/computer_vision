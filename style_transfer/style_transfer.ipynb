{
 "cells": [
  {
   "cell_type": "code",
   "execution_count": 3,
   "metadata": {},
   "outputs": [],
   "source": [
    "import torch\n",
    "from torch import nn\n",
    "from PIL import Image\n",
    "import torchvision.transforms as transforms\n",
    "import torchvision.models as models\n",
    "from torchvision.utils import save_image"
   ]
  },
  {
   "cell_type": "code",
   "execution_count": 18,
   "metadata": {},
   "outputs": [],
   "source": [
    "# Device Agnostic Code\n",
    "device = \"cuda\" if torch.cuda.is_available() else \"cpu\""
   ]
  },
  {
   "cell_type": "code",
   "execution_count": 7,
   "metadata": {},
   "outputs": [
    {
     "name": "stderr",
     "output_type": "stream",
     "text": [
      "Downloading: \"https://download.pytorch.org/models/vgg19-dcbb9e9d.pth\" to C:\\Users\\Sriram Kidambi/.cache\\torch\\hub\\checkpoints\\vgg19-dcbb9e9d.pth\n",
      "100.0%\n"
     ]
    }
   ],
   "source": [
    "model = models.vgg19(pretrained = True).features"
   ]
  },
  {
   "cell_type": "code",
   "execution_count": 15,
   "metadata": {},
   "outputs": [],
   "source": [
    "important_layers = [\"0\", \"5\", \"10\", \"19\", \"28\"] # Look at the first layer and the layers after a maxpool"
   ]
  },
  {
   "cell_type": "code",
   "execution_count": 35,
   "metadata": {},
   "outputs": [],
   "source": [
    "# Creating the model\n",
    "class VGG(nn.Module):\n",
    "    def __init__(self):\n",
    "        super().__init__()\n",
    "        self.chosen_features = [\"0\", \"5\", \"10\", \"19\", \"28\"]\n",
    "        self.model = models.vgg19(weights = True).features[:29]\n",
    "\n",
    "    def forward(self, x):\n",
    "        features = []\n",
    "\n",
    "        for layer_num, layer in enumerate(self.model):\n",
    "            x = layer(x)\n",
    "\n",
    "            if str(layer_num) in self.chosen_features:\n",
    "                features.append(x)\n",
    "        \n",
    "        return features"
   ]
  },
  {
   "cell_type": "code",
   "execution_count": 46,
   "metadata": {},
   "outputs": [],
   "source": [
    "model = VGG().to(device).eval()"
   ]
  },
  {
   "cell_type": "code",
   "execution_count": 47,
   "metadata": {},
   "outputs": [],
   "source": [
    "IMAGE_SIZE = 356\n",
    "loader = transforms.Compose([\n",
    "    transforms.Resize((IMAGE_SIZE, IMAGE_SIZE)),\n",
    "    transforms.ToTensor()\n",
    "])"
   ]
  },
  {
   "cell_type": "code",
   "execution_count": 48,
   "metadata": {},
   "outputs": [],
   "source": [
    "def load_image(image_name):\n",
    "    image = Image.open(image_name)\n",
    "    image = loader(image).unsqueeze(0)\n",
    "\n",
    "    return image.to(device)"
   ]
  },
  {
   "cell_type": "code",
   "execution_count": 49,
   "metadata": {},
   "outputs": [],
   "source": [
    "# Images\n",
    "original_image = load_image(\"content_image.jpg\")\n",
    "style_image = load_image(\"style_image.jpg\")\n",
    "generated_image = original_image.clone().requires_grad_(True)"
   ]
  },
  {
   "cell_type": "code",
   "execution_count": 50,
   "metadata": {},
   "outputs": [],
   "source": [
    "# Hyperparameters\n",
    "epochs = 6000\n",
    "learning_rate = 0.001\n",
    "alpha = 1 # Content Loss\n",
    "beta = 0.01 # Style Loss\n",
    "optimizer = torch.optim.Adam([generated_image], lr=learning_rate)"
   ]
  },
  {
   "cell_type": "code",
   "execution_count": 51,
   "metadata": {},
   "outputs": [
    {
     "name": "stdout",
     "output_type": "stream",
     "text": [
      "Total Loss: 954707.688\n",
      "Total Loss: 56942.934\n",
      "Total Loss: 28854.098\n",
      "Total Loss: 13032.459\n",
      "Total Loss: 5351.579\n",
      "Total Loss: 2984.576\n",
      "Total Loss: 2295.335\n",
      "Total Loss: 1971.850\n",
      "Total Loss: 1755.304\n",
      "Total Loss: 1592.016\n",
      "Total Loss: 1462.240\n",
      "Total Loss: 1355.671\n",
      "Total Loss: 1265.560\n",
      "Total Loss: 1187.739\n",
      "Total Loss: 1120.350\n",
      "Total Loss: 1061.337\n",
      "Total Loss: 1008.776\n",
      "Total Loss: 961.801\n",
      "Total Loss: 919.513\n",
      "Total Loss: 880.994\n",
      "Total Loss: 845.641\n",
      "Total Loss: 812.725\n",
      "Total Loss: 782.499\n",
      "Total Loss: 754.563\n",
      "Total Loss: 728.747\n",
      "Total Loss: 704.686\n",
      "Total Loss: 681.678\n",
      "Total Loss: 661.146\n",
      "Total Loss: 642.119\n",
      "Total Loss: 624.693\n"
     ]
    }
   ],
   "source": [
    "for epoch in range(epochs):\n",
    "    generated_features = model(generated_image)\n",
    "    original_img_features = model(original_image)\n",
    "    style_features = model(style_image)\n",
    "\n",
    "    style_loss = 0\n",
    "    content_loss = 0\n",
    "\n",
    "    for gen_feature, orig_feature, style_feature in zip(generated_features, original_img_features, style_features):\n",
    "        batch_size, channel, height, width = gen_feature.shape\n",
    "        content_loss += torch.mean((gen_feature - orig_feature) ** 2)\n",
    "\n",
    "        # Compute Gram Matrix\n",
    "        G = gen_feature.view(channel, height*width).mm(gen_feature.view(channel, height*width).t())\n",
    "        \n",
    "        A = style_feature.view(channel, height*width).mm(style_feature.view(channel, height*width).t())\n",
    "\n",
    "        style_loss += torch.mean((G - A)**2)\n",
    "    \n",
    "    total_loss = alpha*content_loss + beta*style_loss\n",
    "    optimizer.zero_grad()\n",
    "    total_loss.backward()\n",
    "    optimizer.step()\n",
    "\n",
    "    if epoch % 200 == 0:\n",
    "        print(f\"Total Loss: {total_loss:.3f}\")\n",
    "        save_image(generated_image, \"generated_image.png\")\n"
   ]
  },
  {
   "cell_type": "code",
   "execution_count": null,
   "metadata": {},
   "outputs": [],
   "source": []
  }
 ],
 "metadata": {
  "kernelspec": {
   "display_name": "pytorch",
   "language": "python",
   "name": "python3"
  },
  "language_info": {
   "codemirror_mode": {
    "name": "ipython",
    "version": 3
   },
   "file_extension": ".py",
   "mimetype": "text/x-python",
   "name": "python",
   "nbconvert_exporter": "python",
   "pygments_lexer": "ipython3",
   "version": "3.11.4"
  },
  "orig_nbformat": 4
 },
 "nbformat": 4,
 "nbformat_minor": 2
}
