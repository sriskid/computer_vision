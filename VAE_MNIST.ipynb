{
  "cells": [
    {
      "cell_type": "markdown",
      "metadata": {
        "id": "IYEfi5Wn8zRn"
      },
      "source": [
        "## Import Dependencies"
      ]
    },
    {
      "cell_type": "code",
      "execution_count": 17,
      "metadata": {
        "id": "UCJGbAy-8zRq"
      },
      "outputs": [],
      "source": [
        "import torch\n",
        "from torch import nn\n",
        "from torch.utils.data import DataLoader\n",
        "import torchvision.datasets as datasets\n",
        "import torchvision.transforms as transforms\n",
        "\n",
        "import matplotlib.pyplot as plt\n",
        "import random\n",
        "from tqdm.auto import tqdm"
      ]
    },
    {
      "cell_type": "code",
      "execution_count": 18,
      "metadata": {
        "id": "JYDwuwsq8zRs"
      },
      "outputs": [],
      "source": [
        "# Device Agnostic Code\n",
        "device = \"cuda\" if torch.cuda.is_available() else \"cpu\""
      ]
    },
    {
      "cell_type": "markdown",
      "metadata": {
        "id": "T_bTtSiF8zRs"
      },
      "source": [
        "##"
      ]
    },
    {
      "cell_type": "markdown",
      "metadata": {
        "id": "BVIBhhjD8zRt"
      },
      "source": [
        "## Creating Variational Autoencoder Architecture"
      ]
    },
    {
      "cell_type": "code",
      "execution_count": 19,
      "metadata": {
        "id": "V9Oq7Oic8zRt"
      },
      "outputs": [],
      "source": [
        "class VAE(nn.Module):\n",
        "    def __init__(self, latent_dim):\n",
        "        super().__init__()\n",
        "        # Encoder\n",
        "        self.encoder = nn.Sequential(\n",
        "            nn.Conv2d(in_channels=1, out_channels=32, kernel_size= 3, padding=1),\n",
        "            nn.ReLU(inplace = True),\n",
        "            nn.Conv2d(in_channels=32, out_channels=64, kernel_size= 3, stride=2, padding=1),\n",
        "            nn.ReLU(inplace=True),\n",
        "            nn.Conv2d(in_channels=64, out_channels=64, kernel_size= 3, padding=1),\n",
        "            nn.ReLU(inplace=True)\n",
        "        )\n",
        "\n",
        "        # Bottleneck Layer\n",
        "        self.bottleneck_layer = nn.Sequential(\n",
        "            nn.Flatten(),\n",
        "            nn.Linear(in_features = 64 * 14 * 14, out_features=32),\n",
        "            nn.ReLU(inplace=True),\n",
        "            nn.Linear(in_features=32, out_features=latent_dim) # Used for mu and sigma\n",
        "        )\n",
        "\n",
        "        # Need to reshape before passing to decoder layer\n",
        "        self.decoder_input = nn.Linear(in_features=latent_dim, out_features=64 * 28 * 28 * 1)\n",
        "\n",
        "        # Decoder\n",
        "        self.decoder = nn.Sequential(\n",
        "            nn.ConvTranspose2d(in_channels=64, out_channels=32, kernel_size=3, padding=1),\n",
        "            nn.ReLU(inplace=True),\n",
        "            nn.ConvTranspose2d(in_channels=32, out_channels=1, kernel_size=3, padding=1)\n",
        "        )\n",
        "\n",
        "\n",
        "    def forward(self, x):\n",
        "        encoded = self.encoder(x)\n",
        "        conv_shape = encoded.shape\n",
        "        # print(conv_shape)\n",
        "        mu = self.bottleneck_layer(encoded)\n",
        "        sigma = self.bottleneck_layer(encoded)\n",
        "        epsilon = torch.randn_like(sigma)\n",
        "\n",
        "        z_new = mu + torch.exp(sigma/2) * epsilon\n",
        "\n",
        "        z_new = self.decoder_input(z_new)\n",
        "        # print(z_new.shape)\n",
        "        z_new = torch.reshape(z_new, (-1, 64, 28, 28))\n",
        "\n",
        "        reconstruction = self.decoder(z_new)\n",
        "        reconstruction = torch.sigmoid(reconstruction)\n",
        "        # print(reconstruction.shape)\n",
        "\n",
        "        return reconstruction, mu, sigma"
      ]
    },
    {
      "cell_type": "code",
      "execution_count": 20,
      "metadata": {
        "id": "oj4eyDYb8zRu"
      },
      "outputs": [],
      "source": [
        "# Test Model on Random Image\n",
        "# random_image = torch.randn((32, 1, 28,28))\n",
        "# model = VAE(20)\n",
        "# model(random_image)"
      ]
    },
    {
      "cell_type": "code",
      "execution_count": 21,
      "metadata": {
        "id": "GNv1LoDu8zRv"
      },
      "outputs": [],
      "source": [
        "# Initialize the model\n",
        "latent_dim = 20\n",
        "model = VAE(latent_dim).to(device)"
      ]
    },
    {
      "cell_type": "markdown",
      "metadata": {
        "id": "yeUf-Yee8zRw"
      },
      "source": [
        "## Loading in the MNIST Dataset"
      ]
    },
    {
      "cell_type": "code",
      "execution_count": 22,
      "metadata": {
        "colab": {
          "base_uri": "https://localhost:8080/"
        },
        "id": "KUSOuPE28zRw",
        "outputId": "0bf8444c-35b4-421b-f63a-cde604595103"
      },
      "outputs": [],
      "source": [
        "# Loading the Dataset\n",
        "batch_size = 32\n",
        "dataset = datasets.MNIST(root = \"dataset/\", train = True, transform = transforms.ToTensor(), download = True)\n",
        "train_dataloader = DataLoader(dataset, batch_size = batch_size, shuffle = True)"
      ]
    },
    {
      "cell_type": "markdown",
      "metadata": {
        "id": "4vAJwruE8zRx"
      },
      "source": [
        "## Custom Loss and Optimizer"
      ]
    },
    {
      "cell_type": "code",
      "execution_count": 23,
      "metadata": {
        "id": "ZHioX4mh8zRx"
      },
      "outputs": [],
      "source": [
        "optimizer = torch.optim.Adam(model.parameters(), lr = 3e-4)"
      ]
    },
    {
      "cell_type": "code",
      "execution_count": 24,
      "metadata": {
        "id": "myiq_p-W8zRx"
      },
      "outputs": [],
      "source": [
        "# Custom Loss Function\n",
        "class VAELoss(nn.Module):\n",
        "    def __init__(self):\n",
        "        super().__init__()\n",
        "\n",
        "    def forward(self, z_decoded, x, sigma, mu):\n",
        "        recon_loss = nn.functional.binary_cross_entropy(z_decoded, x)\n",
        "        kl_loss = -5e-4 * torch.mean(1 + sigma - torch.square(mu) - torch.exp(sigma), axis = 1)\n",
        "        total_loss = torch.mean(recon_loss + kl_loss)\n",
        "        return total_loss"
      ]
    },
    {
      "cell_type": "code",
      "execution_count": 25,
      "metadata": {
        "id": "rOaQMDK38zRx"
      },
      "outputs": [],
      "source": [
        "# Test the loss function\n",
        "# random_image_1 = torch.rand((1,28,28))\n",
        "# random_image_2 = torch.rand((1, 28, 28))\n",
        "# mu = torch.abs(torch.randn((64,2)))\n",
        "# sigma = torch.abs(torch.randn((64,2)))\n",
        "# vae_loss = VAELoss()\n",
        "# vae_loss(random_image_1, random_image_2, sigma, mu)"
      ]
    },
    {
      "cell_type": "code",
      "execution_count": 26,
      "metadata": {
        "id": "5v912v-L8zRx"
      },
      "outputs": [],
      "source": [
        "# Initialize the Loss Function\n",
        "loss_fn = VAELoss()"
      ]
    },
    {
      "cell_type": "markdown",
      "metadata": {
        "id": "Yepmlmsg8zRx"
      },
      "source": [
        "## Training Step"
      ]
    },
    {
      "cell_type": "code",
      "execution_count": 27,
      "metadata": {
        "id": "yqQw6mmM8zRy"
      },
      "outputs": [],
      "source": [
        "def train_step(model, epochs, loss_fn, optimizer, train_dataloader):\n",
        "    history = {\n",
        "        \"loss\" : []\n",
        "    }\n",
        "    for epoch in range(epochs):\n",
        "        model.train()\n",
        "        total_loss = 0.0\n",
        "        loop = tqdm(enumerate(train_dataloader), total = len(train_dataloader), leave = False)\n",
        "        for batch, (X, _) in loop:\n",
        "            X = X.to(device)\n",
        "\n",
        "            # Get reconstructed image, mu, and sigma\n",
        "            reconstruction, mu, sigma = model(X)\n",
        "\n",
        "            # Calculate the loss\n",
        "            loss = loss_fn(reconstruction, X, sigma, mu)\n",
        "            total_loss += loss\n",
        "\n",
        "            # Optimizer zero gradient\n",
        "            optimizer.zero_grad()\n",
        "\n",
        "            # Backpropagation\n",
        "            loss.backward()\n",
        "\n",
        "            # Gradient Descent Step\n",
        "            optimizer.step()\n",
        "\n",
        "            # Update Progress Bar\n",
        "            loop.set_description(f\"Epoch [{epoch+1}/{epochs}]\")\n",
        "            loop.set_postfix(loss = loss.item())\n",
        "\n",
        "        total_loss /= len(train_dataloader)\n",
        "        history[\"loss\"].append(loss)\n",
        "\n",
        "        print(f\"Epoch: [{epoch+1}/{epochs}] | Loss: {total_loss}\")\n",
        "\n",
        "    return history"
      ]
    },
    {
      "cell_type": "code",
      "execution_count": 28,
      "metadata": {
        "colab": {
          "base_uri": "https://localhost:8080/"
        },
        "id": "cEtYYlQd8zRy",
        "outputId": "ca009594-0493-4c49-99cf-edef227a26dd"
      },
      "outputs": [
        {
          "name": "stderr",
          "output_type": "stream",
          "text": [
            "                                                                              \r"
          ]
        },
        {
          "name": "stdout",
          "output_type": "stream",
          "text": [
            "Epoch: [1/10] | Loss: 0.20592094957828522\n"
          ]
        },
        {
          "name": "stderr",
          "output_type": "stream",
          "text": [
            "                                                                              \r"
          ]
        },
        {
          "name": "stdout",
          "output_type": "stream",
          "text": [
            "Epoch: [2/10] | Loss: 0.18130046129226685\n"
          ]
        },
        {
          "name": "stderr",
          "output_type": "stream",
          "text": [
            "                                                                              \r"
          ]
        },
        {
          "name": "stdout",
          "output_type": "stream",
          "text": [
            "Epoch: [3/10] | Loss: 0.1756586879491806\n"
          ]
        },
        {
          "name": "stderr",
          "output_type": "stream",
          "text": [
            "                                                                              \r"
          ]
        },
        {
          "name": "stdout",
          "output_type": "stream",
          "text": [
            "Epoch: [4/10] | Loss: 0.17231613397598267\n"
          ]
        },
        {
          "name": "stderr",
          "output_type": "stream",
          "text": [
            "                                                                              \r"
          ]
        },
        {
          "name": "stdout",
          "output_type": "stream",
          "text": [
            "Epoch: [5/10] | Loss: 0.170134037733078\n"
          ]
        },
        {
          "name": "stderr",
          "output_type": "stream",
          "text": [
            "                                                                              \r"
          ]
        },
        {
          "name": "stdout",
          "output_type": "stream",
          "text": [
            "Epoch: [6/10] | Loss: 0.1684555858373642\n"
          ]
        },
        {
          "name": "stderr",
          "output_type": "stream",
          "text": [
            "                                                                              \r"
          ]
        },
        {
          "name": "stdout",
          "output_type": "stream",
          "text": [
            "Epoch: [7/10] | Loss: 0.16704685986042023\n"
          ]
        },
        {
          "name": "stderr",
          "output_type": "stream",
          "text": [
            "                                                                              \r"
          ]
        },
        {
          "name": "stdout",
          "output_type": "stream",
          "text": [
            "Epoch: [8/10] | Loss: 0.16586823761463165\n"
          ]
        },
        {
          "name": "stderr",
          "output_type": "stream",
          "text": [
            "                                                                              \r"
          ]
        },
        {
          "name": "stdout",
          "output_type": "stream",
          "text": [
            "Epoch: [9/10] | Loss: 0.16494788229465485\n"
          ]
        },
        {
          "name": "stderr",
          "output_type": "stream",
          "text": [
            "                                                                               \r"
          ]
        },
        {
          "name": "stdout",
          "output_type": "stream",
          "text": [
            "Epoch: [10/10] | Loss: 0.1641247421503067\n"
          ]
        }
      ],
      "source": [
        "EPOCHS = 10\n",
        "history = train_step(model, EPOCHS, loss_fn, optimizer, train_dataloader)"
      ]
    },
    {
      "cell_type": "markdown",
      "metadata": {
        "id": "pnvEbjJL90U_"
      },
      "source": [
        "## Making Inferences"
      ]
    },
    {
      "cell_type": "code",
      "execution_count": 29,
      "metadata": {
        "colab": {
          "base_uri": "https://localhost:8080/",
          "height": 1000
        },
        "id": "fPAKfPa08zRy",
        "outputId": "2f55519b-c844-4af4-81aa-f0eff44ab073"
      },
      "outputs": [
        {
          "data": {
            "image/png": "[encoded data removed]",
            "text/plain": [
              "<Figure size 2000x2000 with 20 Axes>"
            ]
          },
          "metadata": {},
          "output_type": "display_data"
        }
      ],
      "source": [
        "model = model.to(\"cpu\")\n",
        "model.eval()\n",
        "with torch.inference_mode():\n",
        "  image, label = next(iter(train_dataloader))\n",
        "  generated_image, _, _ = model(image)\n",
        "  fig, axes = plt.subplots(10, 2, figsize = (20,20))\n",
        "  for i in range(10):\n",
        "    index = random.randint(0, batch_size-1)\n",
        "    axes[i,0].imshow(torch.permute(image[index], [1, 2, 0]), cmap = \"gray\")\n",
        "    axes[i,0].set_title(label[index].item())\n",
        "    axes[i,1].imshow(torch.permute(generated_image[index], [1, 2, 0]), cmap = \"gray\")\n",
        "  plt.tight_layout()\n",
        "  plt.show()"
      ]
    },
    {
      "cell_type": "code",
      "execution_count": null,
      "metadata": {
        "id": "4UcIqQI4-kss"
      },
      "outputs": [],
      "source": []
    }
  ],
  "metadata": {
    "accelerator": "GPU",
    "colab": {
      "gpuType": "T4",
      "provenance": []
    },
    "kernelspec": {
      "display_name": "Python 3",
      "name": "python3"
    },
    "language_info": {
      "codemirror_mode": {
        "name": "ipython",
        "version": 3
      },
      "file_extension": ".py",
      "mimetype": "text/x-python",
      "name": "python",
      "nbconvert_exporter": "python",
      "pygments_lexer": "ipython3",
      "version": "3.11.4"
    },
    "orig_nbformat": 4
  },
  "nbformat": 4,
  "nbformat_minor": 0
}
